{
 "cells": [
  {
   "cell_type": "markdown",
   "id": "a5d6c9f7",
   "metadata": {},
   "source": [
    "# 3. Process Basin Storage Module"
   ]
  },
  {
   "cell_type": "markdown",
   "id": "5ba1a33c",
   "metadata": {},
   "source": [
    "# 3.1 Import functions"
   ]
  },
  {
   "cell_type": "code",
   "execution_count": null,
   "id": "6d9adcf5",
   "metadata": {},
   "outputs": [],
   "source": [
    "import os\n",
    "import glob\n",
    "import pandas as pd\n",
    "#import WAPORWA modules\n",
    "os.chdir(r'C:\\WA_Souss_Massa_Training\\WAPOR\\modules') #change to modules path\n",
    "\n",
    "import WA\n",
    "from WA.dS_from_grace import main as calc_dS_basin\n",
    "from WA.pickle_basin import pickle_in,pickle_out  \n",
    "\n",
    "# Read pickle\n",
    "Main_dir=r\"C:\\WA_Souss_Massa_Training\\WAPOR\\Souss_Massa\\Main\"\n",
    "pickle=glob.glob(os.path.join(Main_dir,'*.pickle'))[-1]\n",
    "BASIN=pickle_in(pickle)"
   ]
  },
  {
   "cell_type": "markdown",
   "id": "52201441",
   "metadata": {},
   "source": [
    "# 3.2 Calculate Basin Total Water Storage Anomalies"
   ]
  },
  {
   "cell_type": "code",
   "execution_count": null,
   "id": "f835e802",
   "metadata": {},
   "outputs": [],
   "source": [
    "BASIN_SHP= BASIN['geo_data']['basin']# path to basin shapefile\n",
    "basin_grace_folder= os.path.join(BASIN['Dir'],'grace')\n",
    "if not os.path.exists(basin_grace_folder):\n",
    "    os.makedirs(basin_grace_folder)\n",
    "OUT_CSV= os.path.join(basin_grace_folder,'ts_GRACE.csv')# path to basin GRACE time-series csv file\n",
    "MASCON_DATA_FOLDER = BASIN['global_data']['grace']# path to GRACE folder\n",
    "end_month=BASIN['end_month']\n",
    "                            \n",
    "success=calc_dS_basin(BASIN_SHP,MASCON_DATA_FOLDER,OUT_CSV)\n",
    "if success:\n",
    "    BASIN['input_ts']['dS']=[OUT_CSV,'mm of Equivalent Water Height','Total Water Storage Anomalies']\n",
    "    pickle_out(BASIN)"
   ]
  },
  {
   "cell_type": "markdown",
   "id": "e6867b52",
   "metadata": {},
   "source": [
    "# 3.3 Estimate yearly Total Water Storage Change"
   ]
  },
  {
   "cell_type": "code",
   "execution_count": null,
   "id": "00927904",
   "metadata": {},
   "outputs": [],
   "source": [
    "# Read GRACE basin pseudo-monthly estimates\n",
    "grace_basin_csv=OUT_CSV\n",
    "ts_grace=pd.read_csv(grace_basin_csv,sep=',',index_col=0)\n",
    "ts_day=pd.DataFrame(index=pd.date_range(start='2003-01-06',end='2016-07-14',freq='D'))\n",
    "# Interpolate GRACE estimates to daily time-step\n",
    "ts_grace_daily=pd.merge(ts_day,ts_grace, left_index=True,right_index=True, how='outer')\n",
    "ts_grace_interpolate_daily=ts_grace_daily.interpolate()\n",
    "# Estimate monthly TWS change by Central difference\n",
    "ts_grace_monthly_firstday=ts_grace_interpolate_daily.resample('MS').first()\n",
    "ts_dS_monthly=ts_grace_monthly_firstday.diff(2).shift(-1)/2\n",
    "# Estimate yearly TWS change\n",
    "ts_dS_yearly=ts_dS_monthly.resample('A-{0}'.format(end_month)).sum()\n",
    "ts_dS_yearly.columns=['TWS Change [mm/year]']\n",
    "\n",
    "OUT_CSV=os.path.join(basin_grace_folder,'ts_GRACE_yearly.csv')\n",
    "ts_dS_yearly.to_csv(OUT_CSV,sep=';')\n",
    "BASIN['input_ts']['dS_yearly']=[OUT_CSV,'mm of Equivalent Water Height','Yearly Total Water Storage Change']\n",
    "pickle_out(BASIN)"
   ]
  },
  {
   "cell_type": "markdown",
   "id": "09a26bd4",
   "metadata": {},
   "source": [
    "# 3.4 Plot GRACE TWS"
   ]
  },
  {
   "cell_type": "code",
   "execution_count": null,
   "id": "cfa71cf4",
   "metadata": {},
   "outputs": [],
   "source": [
    "ts_grace.plot(style='.')"
   ]
  },
  {
   "cell_type": "code",
   "execution_count": null,
   "id": "6d76f829",
   "metadata": {},
   "outputs": [],
   "source": [
    "ts_grace_interpolate_daily.plot(style='.-')"
   ]
  },
  {
   "cell_type": "code",
   "execution_count": null,
   "id": "daaac2c5",
   "metadata": {},
   "outputs": [],
   "source": [
    "ts_grace_monthly_firstday.plot(style='.-')"
   ]
  },
  {
   "cell_type": "code",
   "execution_count": null,
   "id": "be85345d",
   "metadata": {},
   "outputs": [],
   "source": [
    "ts_dS_monthly.plot.bar()"
   ]
  }
 ],
 "metadata": {
  "kernelspec": {
   "display_name": "Python 3 (ipykernel)",
   "language": "python",
   "name": "python3"
  },
  "language_info": {
   "codemirror_mode": {
    "name": "ipython",
    "version": 3
   },
   "file_extension": ".py",
   "mimetype": "text/x-python",
   "name": "python",
   "nbconvert_exporter": "python",
   "pygments_lexer": "ipython3",
   "version": "3.7.13"
  }
 },
 "nbformat": 4,
 "nbformat_minor": 5
}
