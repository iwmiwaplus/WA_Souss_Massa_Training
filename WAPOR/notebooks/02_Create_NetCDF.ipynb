{
 "cells": [
  {
   "cell_type": "markdown",
   "id": "a9d1de19",
   "metadata": {},
   "source": [
    "# 2. Create NetCDF Module"
   ]
  },
  {
   "cell_type": "markdown",
   "id": "f806dfae",
   "metadata": {},
   "source": [
    "# 2.1 Import Functions"
   ]
  },
  {
   "cell_type": "code",
   "execution_count": 1,
   "id": "b08bed04",
   "metadata": {},
   "outputs": [
    {
     "name": "stdout",
     "output_type": "stream",
     "text": [
      "Your WaPOR API Token: e3049ee333c720c22805151289a523752f5b92135db9b7c44e0ab593d88f99f0a0713fdc43782868\n"
     ]
    }
   ],
   "source": [
    "import os\n",
    "import glob\n",
    "#import WAPORWA modules\n",
    "os.chdir(r'C:\\WA_Souss_Massa_Training\\WAPOR\\modules') #change to modules path\n",
    "import WaPOR\n",
    "import WA\n",
    "from WA.pickle_basin import pickle_in,pickle_out\n",
    "from WA.create_NC import main as make_netcdf\n",
    "from WA.create_NC import _get_lats_lons \n",
    "import gdal\n",
    "import tempfile"
   ]
  },
  {
   "cell_type": "markdown",
   "id": "b48b7ad2",
   "metadata": {},
   "source": [
    "# 2.2 Generate Basin Object"
   ]
  },
  {
   "cell_type": "code",
   "execution_count": 2,
   "id": "dda51605",
   "metadata": {},
   "outputs": [
    {
     "data": {
      "text/plain": [
       "'C:\\\\WA_Souss_Massa_Training\\\\WAPOR\\\\Souss_Massa\\\\Main\\\\Info_20221020_12h12.pickle'"
      ]
     },
     "execution_count": 2,
     "metadata": {},
     "output_type": "execute_result"
    }
   ],
   "source": [
    "INPUT_FOLDER=r\"C:\\WA_Souss_Massa_Training\\WAPOR\\Souss_Massa\\Input\"\n",
    "BASIN={'Name':'Souss_massa',   \n",
    "        'Dir':   r\"C:\\WA_Souss_Massa_Training\\WAPOR\\Souss_Massa\\Main\",\n",
    "        'time_range':['2012-01-01','2013-12-31'],\n",
    "        'end_month':'DEC',        \n",
    "        'geo_data':{\n",
    "                   'basin':r\"C:\\WA_Souss_Massa_Training\\WAPOR\\Souss_Massa\\shapefile\\sous_massa_wgs.shp\",\n",
    "                      },\n",
    "        'global_data':{\n",
    "                     'grace':r\"C:\\WA_Souss_Massa_Training\\WAPOR\\Souss_Massa\\Global\\GRACE\\GSFC.glb.200301_201607_v02.4-ICE6G\",\n",
    "                     'grand':r\"C:\\WA_Souss_Massa_Training\\WAPOR\\Souss_Massa\\Global\\GRanD\\GRanD_reservoirs_v1_3.shp\",\n",
    "                     'wdpa':r\"C:\\WA_Souss_Massa_Training\\WAPOR\\Souss_Massa\\Global\\WDPA\\WDPA_CatIandII_17countries.shp\",\n",
    "                     },\n",
    "        'input_data':{\n",
    "                      'yearly':{\n",
    "                              'lcc':[r\"\"+os.path.join(INPUT_FOLDER,'L2_LCC_A'),\n",
    "                                     '-','Landcover Class'],\n",
    "                                'lu':[r\"C:\\WA_Souss_Massa_Training\\WAPOR\\Souss_Massa\\Main\\data\\luwa\",\n",
    "                                     '-','WA+ Landuse Categories'],\n",
    "                              },\n",
    "                      'monthly':{\n",
    "                              'p':[r\"\"+os.path.join(INPUT_FOLDER,'L1_PCP_M'),\n",
    "                                   'mm/month','Precipitation'],\n",
    "                              'et':[r\"\"+os.path.join(INPUT_FOLDER,'L2_AETI_M'),\n",
    "                                    'mm/month','Actual Evapotranspiration'],\n",
    "                              'ret':[r\"\"+os.path.join(INPUT_FOLDER,'L1_RET_M'),\n",
    "                                    'mm/month','Reference Evapotranspiration'],\n",
    "                              'i':[r\"\"+os.path.join(INPUT_FOLDER,'L2_I_M'),\n",
    "                                    'mm/month','Interception'],\n",
    "                              'nRD':[r\"\"+os.path.join(INPUT_FOLDER,'Rainy_Days'),\n",
    "                                    'days/month','Number of Rainy Days'],\n",
    "                              },  \n",
    "                    'stat':{\n",
    "                             'thetasat': [r\"C:\\WA_Souss_Massa_Training\\WAPOR\\Souss_Massa\\Input\\ThetaSat\\SMsat_2013.06.01.tif\",\n",
    "                                          '%','Top-soil Saturated Water Content']\n",
    "                            }                                                   \n",
    "                              },\n",
    "        'input_ts':{\n",
    "                'dS':None,\n",
    "                'Qoutlet':r\"C:\\WA_Souss_Massa_Training\\WAPOR\\Souss_Massa\\Input\\Souss_q_2012_2013.csv\",\n",
    "                'Qswout':None,\n",
    "                'Qgwout':None,\n",
    "                \n",
    "                    },\n",
    "        'main_data':{\n",
    "                'yearly':{},\n",
    "                     'monthly':{},\n",
    "                     'stat':{},\n",
    "                     }                \n",
    "                }\n",
    "\n",
    "pickle_out(BASIN)"
   ]
  },
  {
   "cell_type": "code",
   "execution_count": 3,
   "id": "2030a04e",
   "metadata": {},
   "outputs": [],
   "source": [
    "import  datetime\n",
    "starttime = datetime.datetime.now()"
   ]
  },
  {
   "cell_type": "markdown",
   "id": "aad2d863",
   "metadata": {},
   "source": [
    "# 2.3 Create NetCDF files"
   ]
  },
  {
   "cell_type": "code",
   "execution_count": 4,
   "id": "89135249",
   "metadata": {},
   "outputs": [],
   "source": [
    "#Get inputs for create_NC\n",
    "cutline=BASIN['geo_data']['basin']\n",
    "Dir_out=os.path.join(BASIN['Dir'],'data','nc')\n",
    "if not os.path.exists(Dir_out):\n",
    "    os.makedirs(Dir_out)    \n",
    "template=glob.glob(os.path.join(BASIN['input_data']['yearly']['lcc'][0],'*.tif'))[0]"
   ]
  },
  {
   "cell_type": "code",
   "execution_count": 5,
   "id": "ff2bb7ab",
   "metadata": {},
   "outputs": [
    {
     "name": "stderr",
     "output_type": "stream",
     "text": [
      "\r",
      "  0%|                                                                                            | 0/2 [00:00<?, ?it/s]"
     ]
    },
    {
     "name": "stdout",
     "output_type": "stream",
     "text": [
      "1.4302795059428774e-15\n",
      "3.46077333457373e-16\n"
     ]
    },
    {
     "name": "stderr",
     "output_type": "stream",
     "text": [
      "100%|████████████████████████████████████████████████████████████████████████████████████| 2/2 [00:16<00:00,  8.18s/it]\n"
     ]
    },
    {
     "name": "stdout",
     "output_type": "stream",
     "text": [
      "Finished lcc_yearly.nc\n"
     ]
    },
    {
     "name": "stderr",
     "output_type": "stream",
     "text": [
      "\r",
      "  0%|                                                                                            | 0/2 [00:00<?, ?it/s]"
     ]
    },
    {
     "name": "stdout",
     "output_type": "stream",
     "text": [
      "1.4302795059428774e-15\n",
      "3.46077333457373e-16\n"
     ]
    },
    {
     "name": "stderr",
     "output_type": "stream",
     "text": [
      "100%|████████████████████████████████████████████████████████████████████████████████████| 2/2 [00:04<00:00,  2.36s/it]\n"
     ]
    },
    {
     "name": "stdout",
     "output_type": "stream",
     "text": [
      "Finished lu_yearly.nc\n"
     ]
    },
    {
     "name": "stderr",
     "output_type": "stream",
     "text": [
      "\r",
      "  0%|                                                                                           | 0/24 [00:00<?, ?it/s]"
     ]
    },
    {
     "name": "stdout",
     "output_type": "stream",
     "text": [
      "1.4302795059428774e-15\n",
      "3.46077333457373e-16\n"
     ]
    },
    {
     "name": "stderr",
     "output_type": "stream",
     "text": [
      "100%|██████████████████████████████████████████████████████████████████████████████████| 24/24 [00:36<00:00,  1.52s/it]\n"
     ]
    },
    {
     "name": "stdout",
     "output_type": "stream",
     "text": [
      "Finished p_monthly.nc\n"
     ]
    },
    {
     "name": "stderr",
     "output_type": "stream",
     "text": [
      "\r",
      "  0%|                                                                                           | 0/24 [00:00<?, ?it/s]"
     ]
    },
    {
     "name": "stdout",
     "output_type": "stream",
     "text": [
      "1.4302795059428774e-15\n",
      "3.46077333457373e-16\n"
     ]
    },
    {
     "name": "stderr",
     "output_type": "stream",
     "text": [
      "100%|██████████████████████████████████████████████████████████████████████████████████| 24/24 [01:52<00:00,  4.69s/it]\n"
     ]
    },
    {
     "name": "stdout",
     "output_type": "stream",
     "text": [
      "Finished et_monthly.nc\n"
     ]
    },
    {
     "name": "stderr",
     "output_type": "stream",
     "text": [
      "\r",
      "  0%|                                                                                           | 0/24 [00:00<?, ?it/s]"
     ]
    },
    {
     "name": "stdout",
     "output_type": "stream",
     "text": [
      "1.4302795059428774e-15\n",
      "3.46077333457373e-16\n"
     ]
    },
    {
     "name": "stderr",
     "output_type": "stream",
     "text": [
      "100%|██████████████████████████████████████████████████████████████████████████████████| 24/24 [00:37<00:00,  1.57s/it]\n"
     ]
    },
    {
     "name": "stdout",
     "output_type": "stream",
     "text": [
      "Finished ret_monthly.nc\n"
     ]
    },
    {
     "name": "stderr",
     "output_type": "stream",
     "text": [
      "\r",
      "  0%|                                                                                           | 0/24 [00:00<?, ?it/s]"
     ]
    },
    {
     "name": "stdout",
     "output_type": "stream",
     "text": [
      "1.4302795059428774e-15\n",
      "3.46077333457373e-16\n"
     ]
    },
    {
     "name": "stderr",
     "output_type": "stream",
     "text": [
      "100%|██████████████████████████████████████████████████████████████████████████████████| 24/24 [00:42<00:00,  1.78s/it]\n"
     ]
    },
    {
     "name": "stdout",
     "output_type": "stream",
     "text": [
      "Finished i_monthly.nc\n"
     ]
    },
    {
     "name": "stderr",
     "output_type": "stream",
     "text": [
      "\r",
      "  0%|                                                                                           | 0/24 [00:00<?, ?it/s]"
     ]
    },
    {
     "name": "stdout",
     "output_type": "stream",
     "text": [
      "1.4302795059428774e-15\n",
      "3.46077333457373e-16\n"
     ]
    },
    {
     "name": "stderr",
     "output_type": "stream",
     "text": [
      "100%|██████████████████████████████████████████████████████████████████████████████████| 24/24 [00:34<00:00,  1.42s/it]\n"
     ]
    },
    {
     "name": "stdout",
     "output_type": "stream",
     "text": [
      "Finished nRD_monthly.nc\n",
      "1.4302795059428774e-15\n",
      "3.46077333457373e-16\n",
      "{'Top-soil Saturated Water Content': array([[-9999., -9999., -9999., ..., -9999., -9999., -9999.],\n",
      "       [-9999., -9999., -9999., ..., -9999., -9999., -9999.],\n",
      "       [-9999., -9999., -9999., ..., -9999., -9999., -9999.],\n",
      "       ...,\n",
      "       [-9999., -9999., -9999., ..., -9999., -9999., -9999.],\n",
      "       [-9999., -9999., -9999., ..., -9999., -9999., -9999.],\n",
      "       [-9999., -9999., -9999., ..., -9999., -9999., -9999.]],\n",
      "      dtype=float32)}\n",
      "C:\\WA_Souss_Massa_Training\\WAPOR\\Souss_Massa\\shapefile\\sous_massa_wgs.shp\n",
      "Top-soil Saturated Water Content\n",
      "(1965, 2737)\n"
     ]
    },
    {
     "name": "stderr",
     "output_type": "stream",
     "text": [
      "0it [00:00, ?it/s]"
     ]
    },
    {
     "name": "stdout",
     "output_type": "stream",
     "text": [
      "Finished thetasatstat.nc\n",
      "0:04:51.485039\n"
     ]
    },
    {
     "name": "stderr",
     "output_type": "stream",
     "text": [
      "\n"
     ]
    }
   ],
   "source": [
    "import  datetime\n",
    "starttime = datetime.datetime.now()\n",
    "\n",
    "### yearly maps\n",
    "for key in BASIN['input_data']['yearly']:             \n",
    "    if BASIN['input_data']['yearly'][key] is not None:\n",
    "        nc_fn=os.path.join(Dir_out,key+'_yearly.nc')        \n",
    "        dataset={key:[BASIN['input_data']['yearly'][key][0],\n",
    "                       ('time','latitude', 'longitude'), \n",
    "                       {'units': BASIN['input_data']['yearly'][key][1],                                 \n",
    "                        'quantity':BASIN['input_data']['yearly'][key][2],\n",
    "                        'source': 'WaPOR', 'period':'year'}]}\n",
    "        succes=make_netcdf(nc_fn,BASIN['Name'],dataset,template,cutline,step='year')\n",
    "        if succes:\n",
    "            BASIN['main_data']['yearly'][key]=nc_fn\n",
    "            print('Finished {0}_yearly.nc'.format(key))\n",
    "\n",
    "### monthly maps  \n",
    "for key in BASIN['input_data']['monthly']:           \n",
    "    if BASIN['input_data']['monthly'][key] is not None:\n",
    "        nc_fn=os.path.join(Dir_out,key+'_monthly.nc')                \n",
    "        dataset={key:[BASIN['input_data']['monthly'][key][0],\n",
    "                       ('time','latitude', 'longitude'), \n",
    "                       {'units': BASIN['input_data']['monthly'][key][1],                                 \n",
    "                        'quantity':BASIN['input_data']['monthly'][key][2],\n",
    "                        'source': 'WaPOR', 'period':'month'}]}\n",
    "        succes=make_netcdf(nc_fn,BASIN['Name'],dataset,template,cutline,step='month')\n",
    "        if succes:\n",
    "            BASIN['main_data']['monthly'][key]=nc_fn\n",
    "            print('Finished {0}_monthly.nc'.format(key))\n",
    "  \n",
    "### static maps\n",
    "for key in BASIN['input_data']['stat']:            \n",
    "    if BASIN['input_data']['stat'][key] is not None:  \n",
    "        nc_fn=os.path.join(Dir_out,key+'_stat.nc')                \n",
    "        dataset={key:[BASIN['input_data']['stat'][key][0],\n",
    "                       ('latitude', 'longitude'), \n",
    "                       {'units': BASIN['input_data']['stat'][key][1],                                 \n",
    "                        'quantity':BASIN['input_data']['stat'][key][2],\n",
    "                        'source': 'WaPOR', 'period':'stat'}]}\n",
    "        succes=make_netcdf(nc_fn,BASIN['Name'],dataset,template,cutline)\n",
    "        if succes:\n",
    "            BASIN['main_data']['stat'][key]=nc_fn\n",
    "            print('Finished {0}stat.nc'.format(key))\n",
    "\n",
    "pickle_out(BASIN)\n",
    "\n",
    "endtime = datetime.datetime.now()\n",
    "print(endtime-starttime)"
   ]
  }
 ],
 "metadata": {
  "kernelspec": {
   "display_name": "Python 3 (ipykernel)",
   "language": "python",
   "name": "python3"
  },
  "language_info": {
   "codemirror_mode": {
    "name": "ipython",
    "version": 3
   },
   "file_extension": ".py",
   "mimetype": "text/x-python",
   "name": "python",
   "nbconvert_exporter": "python",
   "pygments_lexer": "ipython3",
   "version": "3.7.13"
  }
 },
 "nbformat": 4,
 "nbformat_minor": 5
}
