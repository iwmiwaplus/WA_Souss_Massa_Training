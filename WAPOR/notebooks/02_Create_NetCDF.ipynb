{
 "cells": [
  {
   "cell_type": "markdown",
   "id": "e98d7374",
   "metadata": {},
   "source": [
    "# 2. Create NetCDF Module"
   ]
  },
  {
   "cell_type": "markdown",
   "id": "02a62ad5",
   "metadata": {},
   "source": [
    "# 2.1 Import Functions"
   ]
  },
  {
   "cell_type": "code",
   "execution_count": null,
   "id": "f213169f",
   "metadata": {},
   "outputs": [],
   "source": [
    "import os\n",
    "import glob\n",
    "#import WAPORWA modules\n",
    "os.chdir(r'C:\\WA_Souss_Massa_Training\\WAPOR\\modules') #change to modules path\n",
    "import WaPOR\n",
    "import WA\n",
    "from WA.pickle_basin import pickle_in,pickle_out\n",
    "from WA.create_NC import main as make_netcdf\n",
    "from WA.create_NC import _get_lats_lons \n",
    "import gdal\n",
    "import tempfile"
   ]
  },
  {
   "cell_type": "markdown",
   "id": "6c0233c3",
   "metadata": {},
   "source": [
    "# 2.2 Generate Basin Object"
   ]
  },
  {
   "cell_type": "code",
   "execution_count": null,
   "id": "04fc6129",
   "metadata": {},
   "outputs": [],
   "source": [
    "INPUT_FOLDER=r\"C:\\WA_Souss_Massa_Training\\WAPOR\\Souss_Massa\\Input\"\n",
    "BASIN={'Name':'Souss_massa',   \n",
    "        'Dir':   r\"C:\\WA_Souss_Massa_Training\\WAPOR\\Souss_Massa\\Main\",\n",
    "        'time_range':['2012-01-01','2013-12-31'],\n",
    "        'end_month':'DEC',        \n",
    "        'geo_data':{\n",
    "                   'basin':r\"C:\\WA_Souss_Massa_Training\\WAPOR\\Souss_Massa\\shapefile\\sous_massa_wgs.shp\",\n",
    "                      },\n",
    "        'global_data':{\n",
    "                     'grace':r\"C:\\WA_Souss_Massa_Training\\WAPOR\\Souss_Massa\\Global\\GRACE\\GSFC.glb.200301_201607_v02.4-ICE6G\",\n",
    "                     'grand':r\"C:\\WA_Souss_Massa_Training\\WAPOR\\Souss_Massa\\Global\\GRanD\\GRanD_reservoirs_v1_3.shp\",\n",
    "                     'wdpa':r\"C:\\WA_Souss_Massa_Training\\WAPOR\\Souss_Massa\\Global\\WDPA\\WDPA_CatIandII_17countries.shp\",\n",
    "                     },\n",
    "        'input_data':{\n",
    "                      'yearly':{\n",
    "                              'lcc':[r\"\"+os.path.join(INPUT_FOLDER,'L2_LCC_A'),\n",
    "                                     '-','Landcover Class'],\n",
    "                                'lu':[r\"C:\\WA_Souss_Massa_Training\\WAPOR\\Souss_Massa\\Main\\data\\luwa\",\n",
    "                                     '-','WA+ Landuse Categories'],\n",
    "                              },\n",
    "                      'monthly':{\n",
    "                              'p':[r\"\"+os.path.join(INPUT_FOLDER,'L1_PCP_M'),\n",
    "                                   'mm/month','Precipitation'],\n",
    "                              'et':[r\"\"+os.path.join(INPUT_FOLDER,'L2_AETI_M'),\n",
    "                                    'mm/month','Actual Evapotranspiration'],\n",
    "                              'ret':[r\"\"+os.path.join(INPUT_FOLDER,'L1_RET_M'),\n",
    "                                    'mm/month','Reference Evapotranspiration'],\n",
    "                              'i':[r\"\"+os.path.join(INPUT_FOLDER,'L2_I_M'),\n",
    "                                    'mm/month','Interception'],\n",
    "                              'nRD':[r\"\"+os.path.join(INPUT_FOLDER,'Rainy_Days'),\n",
    "                                    'days/month','Number of Rainy Days'],\n",
    "                              },  \n",
    "                    'stat':{\n",
    "                             'thetasat': [r\"C:\\WA_Souss_Massa_Training\\WAPOR\\Souss_Massa\\Input\\ThetaSat\\SMsat_2013.06.01.tif\",\n",
    "                                          '%','Top-soil Saturated Water Content']\n",
    "                            }                                                   \n",
    "                              },\n",
    "        'input_ts':{\n",
    "                'dS':None,\n",
    "                'Qoutlet':r\"C:\\WA_Souss_Massa_Training\\WAPOR\\Souss_Massa\\Input\\Souss_q_2012_2013.csv\",\n",
    "                'Qswout':None,\n",
    "                'Qgwout':None,\n",
    "                \n",
    "                    },\n",
    "        'main_data':{\n",
    "                'yearly':{},\n",
    "                     'monthly':{},\n",
    "                     'stat':{},\n",
    "                     }                \n",
    "                }\n",
    "\n",
    "pickle_out(BASIN)"
   ]
  },
  {
   "cell_type": "markdown",
   "id": "65c63116",
   "metadata": {},
   "source": [
    "# 2.3 Create NetCDF files"
   ]
  },
  {
   "cell_type": "code",
   "execution_count": null,
   "id": "c9f3142f",
   "metadata": {},
   "outputs": [],
   "source": [
    "#Get inputs for create_NC\n",
    "cutline=BASIN['geo_data']['basin']\n",
    "Dir_out=os.path.join(BASIN['Dir'],'data','nc')\n",
    "if not os.path.exists(Dir_out):\n",
    "    os.makedirs(Dir_out)    \n",
    "template=glob.glob(os.path.join(BASIN['input_data']['yearly']['lcc'][0],'*.tif'))[0]"
   ]
  },
  {
   "cell_type": "code",
   "execution_count": null,
   "id": "766ede33",
   "metadata": {},
   "outputs": [],
   "source": [
    "### yearly maps\n",
    "for key in BASIN['input_data']['yearly']:             \n",
    "    if BASIN['input_data']['yearly'][key] is not None:\n",
    "        nc_fn=os.path.join(Dir_out,key+'_yearly.nc')        \n",
    "        dataset={key:[BASIN['input_data']['yearly'][key][0],\n",
    "                       ('time','latitude', 'longitude'), \n",
    "                       {'units': BASIN['input_data']['yearly'][key][1],                                 \n",
    "                        'quantity':BASIN['input_data']['yearly'][key][2],\n",
    "                        'source': 'WaPOR', 'period':'year'}]}\n",
    "        succes=make_netcdf(nc_fn,BASIN['Name'],dataset,template,cutline,step='year')\n",
    "        if succes:\n",
    "            BASIN['main_data']['yearly'][key]=nc_fn\n",
    "            print('Finished {0}_yearly.nc'.format(key))\n",
    "\n",
    "### monthly maps  \n",
    "for key in BASIN['input_data']['monthly']:           \n",
    "    if BASIN['input_data']['monthly'][key] is not None:\n",
    "        nc_fn=os.path.join(Dir_out,key+'_monthly.nc')                \n",
    "        dataset={key:[BASIN['input_data']['monthly'][key][0],\n",
    "                       ('time','latitude', 'longitude'), \n",
    "                       {'units': BASIN['input_data']['monthly'][key][1],                                 \n",
    "                        'quantity':BASIN['input_data']['monthly'][key][2],\n",
    "                        'source': 'WaPOR', 'period':'month'}]}\n",
    "        succes=make_netcdf(nc_fn,BASIN['Name'],dataset,template,cutline,step='month')\n",
    "        if succes:\n",
    "            BASIN['main_data']['monthly'][key]=nc_fn\n",
    "            print('Finished {0}_monthly.nc'.format(key))\n",
    "  \n",
    "### static maps\n",
    "for key in BASIN['input_data']['stat']:            \n",
    "    if BASIN['input_data']['stat'][key] is not None:  \n",
    "        nc_fn=os.path.join(Dir_out,key+'_stat.nc')                \n",
    "        dataset={key:[BASIN['input_data']['stat'][key][0],\n",
    "                       ('latitude', 'longitude'), \n",
    "                       {'units': BASIN['input_data']['stat'][key][1],                                 \n",
    "                        'quantity':BASIN['input_data']['stat'][key][2],\n",
    "                        'source': 'WaPOR', 'period':'stat'}]}\n",
    "        succes=make_netcdf(nc_fn,BASIN['Name'],dataset,template,cutline)\n",
    "        if succes:\n",
    "            BASIN['main_data']['stat'][key]=nc_fn\n",
    "            print('Finished {0}stat.nc'.format(key))\n",
    "\n",
    "pickle_out(BASIN)"
   ]
  }
 ],
 "metadata": {
  "kernelspec": {
   "display_name": "Python 3 (ipykernel)",
   "language": "python",
   "name": "python3"
  },
  "language_info": {
   "codemirror_mode": {
    "name": "ipython",
    "version": 3
   },
   "file_extension": ".py",
   "mimetype": "text/x-python",
   "name": "python",
   "nbconvert_exporter": "python",
   "pygments_lexer": "ipython3",
   "version": "3.7.13"
  }
 },
 "nbformat": 4,
 "nbformat_minor": 5
}
