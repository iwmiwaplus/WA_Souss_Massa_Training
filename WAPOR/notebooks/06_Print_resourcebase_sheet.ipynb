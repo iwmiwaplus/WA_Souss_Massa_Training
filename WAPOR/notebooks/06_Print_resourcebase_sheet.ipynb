{
 "cells": [
  {
   "cell_type": "markdown",
   "id": "0f06d54b",
   "metadata": {},
   "source": [
    "# 6.0 Print Resource Base Sheet"
   ]
  },
  {
   "cell_type": "code",
   "execution_count": null,
   "id": "3a8b30f3",
   "metadata": {},
   "outputs": [],
   "source": [
    "## print sheet\n",
    "import os\n",
    "import glob\n",
    "#import WAPORWA modules\n",
    "os.chdir(r'C:\\WA_Souss_Massa_Training\\WAPOR\\modules') #change to modules path\n",
    "from WA import print_sheet as ps\n",
    "from WA.pickle_basin import pickle_in,pickle_out \n",
    "\n",
    "#Read pickle\n",
    "Main_dir=r\"C:\\WA_Souss_Massa_Training\\WAPOR\\Souss_Massa\\Main\"\n",
    "pickle=glob.glob(os.path.join(Main_dir,'*.pickle'))[-1] \n",
    "BASIN=pickle_in(pickle)  \n",
    "\n",
    "convert_unit=1000000 #from TCM to BCM\n",
    "# convert_unit=1000 #from TCM to MCM\n",
    "\n",
    "if convert_unit == 1e6:\n",
    "    str_unit='km3/year'\n",
    "elif convert_unit == 1e3:\n",
    "    str_unit='MCM/year'\n",
    "\n",
    "csv_folder=os.path.join(BASIN['Dir'],'data','csv')\n",
    "sheet1_yearly_csvs =  glob.glob(os.path.join(csv_folder,'*.csv'))\n",
    "\n",
    "for sheet1_csv in sheet1_yearly_csvs:\n",
    "    period=os.path.basename(sheet1_csv).split('.')[0].split('_')[-1]\n",
    "    output=sheet1_csv.replace('.csv','.pdf')    \n",
    "    ps.create_sheet_png(basin=BASIN['Name'], period=period, units=str_unit,  data= sheet1_csv, output=output)"
   ]
  }
 ],
 "metadata": {
  "kernelspec": {
   "display_name": "Python 3 (ipykernel)",
   "language": "python",
   "name": "python3"
  },
  "language_info": {
   "codemirror_mode": {
    "name": "ipython",
    "version": 3
   },
   "file_extension": ".py",
   "mimetype": "text/x-python",
   "name": "python",
   "nbconvert_exporter": "python",
   "pygments_lexer": "ipython3",
   "version": "3.7.13"
  }
 },
 "nbformat": 4,
 "nbformat_minor": 5
}
