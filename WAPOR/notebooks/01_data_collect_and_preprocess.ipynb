{
 "cells": [
  {
   "cell_type": "markdown",
   "id": "249d7b9b",
   "metadata": {},
   "source": [
    "# 1.0 Data Collect and Pre-processing Module"
   ]
  },
  {
   "cell_type": "markdown",
   "id": "f6032ca1",
   "metadata": {},
   "source": [
    "# 1.1 Import Functions"
   ]
  },
  {
   "cell_type": "code",
   "execution_count": 1,
   "id": "7698f136",
   "metadata": {},
   "outputs": [],
   "source": [
    "import  datetime\n",
    "starttime = datetime.datetime.now()"
   ]
  },
  {
   "cell_type": "code",
   "execution_count": 2,
   "id": "9765669e",
   "metadata": {},
   "outputs": [
    {
     "name": "stdout",
     "output_type": "stream",
     "text": [
      "Your WaPOR API Token: e3049ee333c720c22805151289a523752f5b92135db9b7c44e0ab593d88f99f0a0713fdc43782868\n"
     ]
    }
   ],
   "source": [
    "import os\n",
    "import glob\n",
    "#import WAPORWA modules\n",
    "os.chdir(r'C:\\WA_Souss_Massa_Training\\WAPOR\\modules') #change to modules path\n",
    "import WaPOR\n",
    "import WA\n",
    "from WA.pickle_basin import pickle_in,pickle_out  \n",
    "import pandas as pd\n",
    "from osgeo import gdal\n",
    "import numpy as np\n",
    "import osr\n",
    "from WaPOR import GIS_functions as gis\n",
    "import calendar"
   ]
  },
  {
   "cell_type": "markdown",
   "id": "10c17f96",
   "metadata": {},
   "source": [
    "# 1.2 Collect data from WaPOR database"
   ]
  },
  {
   "cell_type": "code",
   "execution_count": 3,
   "id": "d45624f6",
   "metadata": {},
   "outputs": [
    {
     "name": "stdout",
     "output_type": "stream",
     "text": [
      "Loading WaPOR catalog...\n"
     ]
    }
   ],
   "source": [
    "WaPOR.API.version=2\n",
    "catalog=WaPOR.API.getCatalog()\n",
    "\n",
    "INPUT_FOLDER=r'C:\\WA_Souss_Massa_Training\\WAPOR\\Souss_Massa\\Input_' #change to input path\n",
    "\n",
    "#%% DEFINE Basin extent\n",
    "### OPTION 1: Define minimum and maximum longitude (x) and latitude (y)\n",
    "# xmin,ymin,xmax,ymax=[34.4,29.4,37.0,33.7]\n",
    "\n",
    "### OPTION 2: Read from shapefile\n",
    "BASIN_SHP = r\"C:\\WA_Souss_Massa_Training\\WAPOR\\Souss_Massa\\shapefile\\sous_massa_wgs.shp\" #path to Basin shapefile\n",
    "import shapefile\n",
    "shape=shapefile.Reader(BASIN_SHP)\n",
    "xmin,ymin,xmax,ymax=shape.bbox"
   ]
  },
  {
   "cell_type": "code",
   "execution_count": 4,
   "id": "754cac69",
   "metadata": {},
   "outputs": [
    {
     "name": "stdout",
     "output_type": "stream",
     "text": [
      "0:05:48.553056\n"
     ]
    }
   ],
   "source": [
    "endtime = datetime.datetime.now()\n",
    "print(endtime-starttime)"
   ]
  },
  {
   "cell_type": "code",
   "execution_count": null,
   "id": "4fe14013",
   "metadata": {},
   "outputs": [],
   "source": [
    "start_date='2012-01-01'\n",
    "end_date='2013-12-31'\n",
    "\n",
    "import  datetime\n",
    "starttime = datetime.datetime.now()\n",
    "\n",
    "# WaPOR.PCP_daily(INPUT_FOLDER,Startdate=start_date,\n",
    "#                   Enddate=end_date,latlim=[ymin-0.25,ymax+0.25],\n",
    "#                   lonlim=[xmin-0.25,xmax+0.25])\n",
    "\n",
    "WaPOR.PCP_monthly(INPUT_FOLDER,Startdate=start_date,\n",
    "                  Enddate=end_date,latlim=[ymin-0.25,ymax+0.25],\n",
    "                  lonlim=[xmin-0.25,xmax+0.25])\n",
    "\n",
    "WaPOR.RET_monthly(INPUT_FOLDER,Startdate=start_date,\n",
    "                  Enddate=end_date,latlim=[ymin-0.5,ymax+0.5],\n",
    "                  lonlim=[xmin-0.5,xmax+0.5])\n",
    "\n",
    "WaPOR.AET_monthly(INPUT_FOLDER,Startdate=start_date,\n",
    "                  Enddate=end_date,latlim=[ymin,ymax],\n",
    "                  lonlim=[xmin,xmax],level=2)\n",
    "\n",
    "WaPOR.LCC_yearly(INPUT_FOLDER,Startdate=start_date,\n",
    "                  Enddate=end_date,latlim=[ymin,ymax],\n",
    "                  lonlim=[xmin,xmax],level=2)\n",
    "\n",
    "WaPOR.I_dekadal(INPUT_FOLDER,Startdate=start_date,\n",
    "                  Enddate=end_date,latlim=[ymin,ymax],\n",
    "                  lonlim=[xmin,xmax],level=2)\n",
    "\n",
    "endtime = datetime.datetime.now()\n",
    "print(endtime-starttime)"
   ]
  },
  {
   "cell_type": "markdown",
   "id": "a6ef1843",
   "metadata": {},
   "source": [
    "# 1.3 Reclassify Landcover (LC) to Landuse Use for WA (LUWA)"
   ]
  },
  {
   "cell_type": "code",
   "execution_count": null,
   "id": "a0143124",
   "metadata": {
    "scrolled": true
   },
   "outputs": [],
   "source": [
    "Main_dir=r\"C:\\WA_Souss_Massa_Training\\WAPOR\\Souss_Massa\\Main\"\n",
    "LCC_folder=r\"C:\\WA_Souss_Massa_Training\\WAPOR\\Souss_Massa\\Input\\L2_LCC_A\" #folder of WaPOR LCC GeoTIFFs\n",
    "Global_GRaND_Reservoir=r\"C:\\WA_Souss_Massa_Training\\WAPOR\\Souss_Massa\\Global\\GRanD\" #path to  GRanD reservoirs shapfile\n",
    "WDPA=r\"C:\\WA_Souss_Massa_Training\\WAPOR\\Souss_Massa\\Global\\WDPA\\WDPA_CatIandII_17countries.shp\" #path to WDPA shapefile\n",
    "                        \n",
    "Resrv_to_Lake=None #GeoTIFF of selected reservoirs which are natural lakes\n",
    "Lake_to_Reserv=None  #GeoTIFF of selected natural lakes which are reservoirs\n",
    "\n",
    "#import glob\n",
    "import glob\n",
    "from WA.LCC_to_LUWA import Rasterize_shape_basin,Adjust_GRaND_reservoir,LCC_to_LUWA\n",
    "\n",
    "### Get all yearly WaPOR LCC maps\n",
    "LCC_fhs=glob.glob(os.path.join(LCC_folder,'*.tif'))\n",
    "WaPOR_LCC=LCC_fhs[0] #template\n",
    "\n",
    "### Create Reservoir raster map for basin\n",
    "Dir_out=os.path.join(Main_dir,'Reservoir')\n",
    "if not os.path.exists(Dir_out):\n",
    "    os.makedirs(Dir_out)\n",
    "Basin_Reservoir_tif=os.path.join(Dir_out,'Reservoir_basin.tif')\n",
    "\n",
    "# adjust reservoir\n",
    "if (Resrv_to_Lake!=None)&(Lake_to_Reserv!=None): #require 2 shapefiles to unreservoir and makereservoir           \n",
    "    Adjust_GRaND_reservoir(Basin_Reservoir_tif,WaPOR_LCC,\n",
    "                           Global_GRaND_Reservoir,Resrv_to_Lake,Lake_to_Reserv)    \n",
    "else:                \n",
    "    Rasterize_shape_basin(Global_GRaND_Reservoir,WaPOR_LCC,Basin_Reservoir_tif)\n",
    "    \n",
    "\n",
    "### Create Protected Area raster map for basin\n",
    "Dir_out=os.path.join(Main_dir,'Protected')\n",
    "if not os.path.exists(Dir_out):\n",
    "    os.makedirs(Dir_out)\n",
    "    \n",
    "ProtectedArea_tif=os.path.join(Dir_out,'ProtectedArea_basin.tif')\n",
    "Rasterize_shape_basin(WDPA,WaPOR_LCC,ProtectedArea_tif)\n",
    "\n",
    "### Reclassify LCC to LUWA       \n",
    "Dir_out=os.path.join(Main_dir,'data','luwa')\n",
    "if not os.path.exists(Dir_out):\n",
    "    os.makedirs(Dir_out)\n",
    "for fh in LCC_fhs:\n",
    "    LCC_to_LUWA(fh,Dir_out,ProtectedArea_tif,Basin_Reservoir_tif)\n"
   ]
  },
  {
   "cell_type": "markdown",
   "id": "8b939e3d",
   "metadata": {},
   "source": [
    "# 1.4 Generate monthly Interception files"
   ]
  },
  {
   "cell_type": "code",
   "execution_count": null,
   "id": "d41b00d6",
   "metadata": {},
   "outputs": [],
   "source": [
    "# -*- coding: utf-8 -*-\n",
    "\n",
    "Dekadal_I_folder=r\"C:\\WA_Souss_Massa_Training\\WAPOR\\Souss_Massa\\Input\\L2_I_D\"\n",
    "start_date='2012-01-01'\n",
    "end_date='2013-12-31'\n",
    "ds_code='L2_I_D' \n",
    "output_folder=Dekadal_I_folder.replace('L2_I_D','L2_I_M')\n",
    "if not os.path.exists(Dir_out):\n",
    "    os.makedirs(Dir_out)"
   ]
  },
  {
   "cell_type": "code",
   "execution_count": null,
   "id": "f666b7d9",
   "metadata": {},
   "outputs": [],
   "source": [
    "#get list of dekadal rasters\n",
    "\n",
    "input_fhs=glob.glob(os.path.join(Dekadal_I_folder,'*.tif'))\n",
    "input_fhs\n",
    "\n",
    "#Get month dates\n",
    "month_dates=pd.date_range(start_date,end_date,freq='M')\n",
    "\n",
    "#Get df avail \n",
    "WaPOR.API.version=2\n",
    "df_avail=WaPOR.API.getAvailData(ds_code,time_range='{0},{1}'.format(start_date,end_date))\n",
    "\n",
    "#aggregate monthly\n",
    "if not os.path.exists(output_folder):\n",
    "    os.makedirs(output_folder)\n",
    "driver, NDV, xsize, ysize, GeoT, Projection = gis.GetGeoInfo(input_fhs[0])\n",
    "for date in month_dates:\n",
    "    month_fhs=[]\n",
    "    for in_fh in input_fhs:\n",
    "        raster_id=os.path.split(in_fh)[-1].split('.tif')[0][-9:]\n",
    "        raster_info=df_avail.loc[df_avail['raster_id']==raster_id]\n",
    "        timestr=raster_info['DEKAD'].iloc[0]\n",
    "        year=int(timestr[0:4])\n",
    "        month=int(timestr[5:7])\n",
    "        if (year==date.year)&(month==date.month):\n",
    "            month_fhs.append(in_fh)\n",
    "    SumArray=np.zeros((ysize,xsize),dtype=np.float32)\n",
    "    for fh in month_fhs:\n",
    "        Array=gis.OpenAsArray(fh,nan_values=True)\n",
    "        SumArray+=Array\n",
    "    out_fh=os.path.join(output_folder,'WaPOR_I_{:04d}{:02d}.tif'.format(date.year,date.month))    \n",
    "    gis.CreateGeoTiff(out_fh, SumArray, driver, NDV, xsize, ysize, GeoT, Projection)"
   ]
  },
  {
   "cell_type": "markdown",
   "id": "c805ac6d",
   "metadata": {},
   "source": [
    "# 1.5 Generate Monthly Rainy Days"
   ]
  },
  {
   "cell_type": "code",
   "execution_count": null,
   "id": "aea9b4d3",
   "metadata": {},
   "outputs": [],
   "source": [
    "\"\"\"\n",
    "Adapted from watools (by T.Hessels)\n",
    "\"\"\"\n",
    "Data_Path_P=r\"C:\\WA_Souss_Massa_Training\\WAPOR\\Souss_Massa\\Input\\L1_PCP_E\"\n",
    "start_date='2012-01-01'\n",
    "end_date='2013-12-31'\n",
    "\n",
    "Data_Path_RD = Data_Path_P.replace('L1_PCP_E','Rainy_Days')\n",
    "if not os.path.exists(Dir_out):\n",
    "    os.makedirs(Dir_out)\n",
    "    "
   ]
  },
  {
   "cell_type": "code",
   "execution_count": null,
   "id": "537c3472",
   "metadata": {},
   "outputs": [],
   "source": [
    "if not os.path.exists(Data_Path_RD):\n",
    "    os.mkdir(Data_Path_RD)\n",
    "Dates = pd.date_range(start_date, end_date, freq ='MS')\n",
    "os.chdir(Data_Path_P)\n",
    "\n",
    "for Date in Dates:\n",
    "    # Define the year and month and amount of days in month\n",
    "    year = Date.year\n",
    "    month = Date.month\n",
    "    daysinmonth = calendar.monthrange(year, month)[1]\n",
    "\n",
    "    # Set the third (time) dimension of array starting at 0\n",
    "    i = 0\n",
    "\n",
    "    # Find all files of that month\n",
    "    files = glob.glob('*daily_%d.%02d.*.tif' %(year, month))\n",
    "\n",
    "    # Check if the amount of files corresponds with the amount of days in month\n",
    "    if len(files) is not daysinmonth:\n",
    "        print('ERROR: Not all Rainfall days for month %d and year %d are downloaded'  %(month, year))\n",
    "\n",
    "    # Loop over the days and store data in raster\n",
    "    for File in files:\n",
    "        dir_file = os.path.join(Data_Path_P, File)\n",
    "\n",
    "        # Get array information and create empty numpy array for daily rainfall when looping the first file\n",
    "        if File == files[0]:\n",
    "\n",
    "            # Open geolocation info and define projection\n",
    "            driver, NDV, xsize, ysize, GeoT, Projection = gis.GetGeoInfo(dir_file)\n",
    "\n",
    "            # Create empty array for the whole month\n",
    "            P_Daily = np.zeros([daysinmonth,ysize, xsize],dtype=np.float32)\n",
    "\n",
    "        # Open data and put the data in 3D array\n",
    "        Data = gis.OpenAsArray(dir_file,nan_values=True)\n",
    "\n",
    "        # Remove the weird numbers\n",
    "        Data[Data<0] = 0\n",
    "\n",
    "        # Add the precipitation to the monthly cube\n",
    "        P_Daily[i, :, :] = Data\n",
    "        i += 1\n",
    "\n",
    "    # Define a rainy day\n",
    "    P_Daily[P_Daily > 0.201] = 1\n",
    "    P_Daily[P_Daily != 1] = 0\n",
    "\n",
    "    # Sum the amount of rainy days\n",
    "    RD_one_month = np.nansum(P_Daily,0)\n",
    "\n",
    "    # Define output name\n",
    "    Outname = os.path.join(Data_Path_RD, 'Rainy_Days_NumOfDays_monthly_%d.%02d.01.tif' %(year, month))\n",
    "\n",
    "    # Save tiff file\n",
    "    gis.CreateGeoTiff(Outname, RD_one_month, driver, NDV, xsize, ysize, GeoT, Projection)\n",
    "    \n",
    "endtime = datetime.datetime.now()\n",
    "print(endtime-starttime)"
   ]
  },
  {
   "cell_type": "code",
   "execution_count": null,
   "id": "466857b0",
   "metadata": {},
   "outputs": [],
   "source": []
  }
 ],
 "metadata": {
  "kernelspec": {
   "display_name": "Python 3 (ipykernel)",
   "language": "python",
   "name": "python3"
  },
  "language_info": {
   "codemirror_mode": {
    "name": "ipython",
    "version": 3
   },
   "file_extension": ".py",
   "mimetype": "text/x-python",
   "name": "python",
   "nbconvert_exporter": "python",
   "pygments_lexer": "ipython3",
   "version": "3.7.13"
  }
 },
 "nbformat": 4,
 "nbformat_minor": 5
}
