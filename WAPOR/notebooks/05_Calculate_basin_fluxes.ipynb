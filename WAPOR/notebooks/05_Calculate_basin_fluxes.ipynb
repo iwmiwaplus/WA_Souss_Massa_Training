{
 "cells": [
  {
   "cell_type": "markdown",
   "id": "51e9b30f",
   "metadata": {},
   "source": [
    "# 5. Calculate Sheet fluxes Module"
   ]
  },
  {
   "cell_type": "markdown",
   "id": "123c8966",
   "metadata": {},
   "source": [
    "# 5.1 Import Functions"
   ]
  },
  {
   "cell_type": "code",
   "execution_count": 1,
   "id": "29ebaff9",
   "metadata": {},
   "outputs": [],
   "source": [
    "import  datetime\n",
    "starttime = datetime.datetime.now()"
   ]
  },
  {
   "cell_type": "code",
   "execution_count": 2,
   "id": "0d8401c9",
   "metadata": {},
   "outputs": [
    {
     "data": {
      "text/html": [
       "<table style=\"border: 2px solid white;\">\n",
       "<tr>\n",
       "<td style=\"vertical-align: top; border: 0px solid white\">\n",
       "<h3 style=\"text-align: left;\">Client</h3>\n",
       "<ul style=\"text-align: left; list-style: none; margin: 0; padding: 0;\">\n",
       "  <li><b>Scheduler: </b>tcp://127.0.0.1:52961</li>\n",
       "  <li><b>Dashboard: </b><a href='http://127.0.0.1:8787/status' target='_blank'>http://127.0.0.1:8787/status</a></li>\n",
       "</ul>\n",
       "</td>\n",
       "<td style=\"vertical-align: top; border: 0px solid white\">\n",
       "<h3 style=\"text-align: left;\">Cluster</h3>\n",
       "<ul style=\"text-align: left; list-style:none; margin: 0; padding: 0;\">\n",
       "  <li><b>Workers: </b>4</li>\n",
       "  <li><b>Cores: </b>8</li>\n",
       "  <li><b>Memory: </b>8.39 GB</li>\n",
       "</ul>\n",
       "</td>\n",
       "</tr>\n",
       "</table>"
      ],
      "text/plain": [
       "<Client: 'tcp://127.0.0.1:52961' processes=4 threads=8, memory=8.39 GB>"
      ]
     },
     "execution_count": 2,
     "metadata": {},
     "output_type": "execute_result"
    }
   ],
   "source": [
    "import os\n",
    "import glob\n",
    "import datetime\n",
    "import pandas as pd\n",
    "import numpy as np\n",
    "import xarray as xr\n",
    "#import WAPORWA modules\n",
    "os.chdir(r'C:\\WA_Souss_Massa_Training\\WAPOR\\modules') #change to modules path\n",
    "import WA\n",
    "from WA.pickle_basin import pickle_in,pickle_out  \n",
    "from WA.model_SMBalance import open_nc\n",
    "from WA import GIS_functions as gis\n",
    "from dask.distributed import Client\n",
    "\n",
    "#Read pickle\n",
    "Main_dir=r\"C:\\WA_Souss_Massa_Training\\WAPOR\\Souss_Massa\\Main\"\n",
    "pickle=glob.glob(os.path.join(Main_dir,'*.pickle'))[-1] \n",
    "BASIN=pickle_in(pickle)  \n",
    "\n",
    "#Customize dask performance\n",
    "client = Client()\n",
    "client"
   ]
  },
  {
   "cell_type": "code",
   "execution_count": 3,
   "id": "783c5f19",
   "metadata": {},
   "outputs": [
    {
     "data": {
      "text/plain": [
       "'C:\\\\WA_Souss_Massa_Training\\\\WAPOR\\\\Souss_Massa\\\\Main\\\\Info_20221024_10h24.pickle'"
      ]
     },
     "execution_count": 3,
     "metadata": {},
     "output_type": "execute_result"
    }
   ],
   "source": [
    "time='A-{0}'.format(BASIN['end_month'])\n",
    "for key in ['p','et','etincr','etrain']:\n",
    "    nc=BASIN['main_data']['monthly'][key]\n",
    "    var,name=open_nc(nc)\n",
    "    var_y=var.resample(time=time).sum(dim='time',skipna=False)\n",
    "    outfolder=os.path.join(BASIN['Dir'],'data','nc')  \n",
    "    attrs={\"units\":\"mm/year\", \"source\": \"Hydrolological year \", \"quantity\":name}\n",
    "    var_y.assign_attrs(attrs)\n",
    "    var_y.name = name\n",
    "    var_y_dts=var_y.chunk({\"latitude\":-1,\"longitude\":-1}).to_dataset()\n",
    "    nc_fn=\"{0}_hyearly.nc\".format(key)\n",
    "    nc_path=os.path.join(outfolder,nc_fn)\n",
    "    var_y_dts.to_netcdf(nc_path,encoding={name:{'zlib':True}})\n",
    "    BASIN['main_data']['yearly'][key]=nc_path\n",
    "pickle_out(BASIN)"
   ]
  },
  {
   "cell_type": "code",
   "execution_count": 4,
   "id": "e59565ac",
   "metadata": {},
   "outputs": [],
   "source": [
    "#%% Create Area mask\n",
    "# get template from LU map\n",
    "template=glob.glob(os.path.join(BASIN['input_data']['yearly']['lu'][0],\"*.tif\"))[0]\n",
    "driver, NDV, xsize, ysize, GeoT, Projection = gis.GetGeoInfo(template)\n",
    "# calculate area per pixel\n",
    "area_map=gis.MapPixelAreakm(template)\n",
    "# save area map as tif\n",
    "\n",
    "Dir_stat = os.path.join(BASIN['Dir'],'data','stat')\n",
    "if not os.path.exists(Dir_stat):\n",
    "    os.makedirs(Dir_stat)\n",
    "\n",
    "BASIN['input_data']['stat']['area']=os.path.join(Dir_stat,'Area_km.tif')    \n",
    "gis.CreateGeoTiff(BASIN['input_data']['stat']['area'],area_map,driver, NDV, xsize, ysize, GeoT, Projection)\n",
    "\n",
    "# create area mask\n",
    "shape=BASIN['geo_data']['basin'] #Shapefile of the area of interest\n",
    "area=BASIN['input_data']['stat']['area']\n",
    "BASIN['main_data']['stat']['area']=os.path.join(BASIN['Dir'],'data','stat','Basin_Area_km.tif')\n",
    "gis.Clip_shapefile(area,shape,BASIN['main_data']['stat']['area'])"
   ]
  },
  {
   "cell_type": "markdown",
   "id": "5021e4ca",
   "metadata": {},
   "source": [
    "# 5.2 Calculate Fluxes"
   ]
  },
  {
   "cell_type": "code",
   "execution_count": 5,
   "id": "3ee9ee40",
   "metadata": {},
   "outputs": [],
   "source": [
    "### Select area of interest\n",
    "area_fh=BASIN['main_data']['stat']['area'] # The whole Basin area\n",
    "# area_fh=Basin['main_data']['subbasin']['Zarqa'] #or sub-basin area\n",
    "area=gis.OpenAsArray(area_fh,nan_values=True)\n",
    "\n",
    "### Calculate total P, ET, ETincr, ETrain\n",
    "ts_all=[] #all timeseries\n",
    "for key in ['p','et','etrain','etincr']:\n",
    "    nc=BASIN['main_data']['yearly'][key]\n",
    "    var,name=open_nc(nc)\n",
    "    Volume=var*area\n",
    "    attrs=var.attrs\n",
    "    attrs['units']='TCM/year'\n",
    "    Volume.assign_attrs(attrs)\n",
    "    ts=Volume.sum(dim=['latitude','longitude']).to_dataframe()\n",
    "    ts.index=[y.year for y in ts.index]\n",
    "    ts_all.append(ts)\n",
    "    \n",
    "### Calculate ET consumptions by Land Use Categories\n",
    "LU,_=open_nc(BASIN['main_data']['yearly']['lu'])\n",
    "ETg,_=open_nc(BASIN['main_data']['yearly']['etrain'])\n",
    "ETb,_=open_nc(BASIN['main_data']['yearly']['etincr'])\n",
    "\n",
    "\n",
    "### Different year date to year \n",
    "LU=LU.groupby('time.year').first(skipna=False)\n",
    "ETb=area*ETb.groupby('time.year').first(skipna=False)\n",
    "ETg=area*ETg.groupby('time.year').first(skipna=False)\n",
    "### average per LU\n",
    "from WA.average_by_LU import Total_perLU\n",
    "ts_ETb=Total_perLU(ETb,LU)\n",
    "ts_ETg=Total_perLU(ETg,LU)\n",
    "\n",
    "ts_all.append(ts_ETb)\n",
    "ts_all.append(ts_ETg)"
   ]
  },
  {
   "cell_type": "code",
   "execution_count": 6,
   "id": "b4b6167c",
   "metadata": {},
   "outputs": [],
   "source": [
    "### Read yearly dS from GRACE\n",
    "df_dS_y=pd.read_csv(BASIN['input_ts']['dS_yearly'][0],sep=';',index_col=0)\n",
    "Area_skm=np.nansum(area)\n",
    "df_grace_ds=df_dS_y*Area_skm\n",
    "df_grace_ds.index=[int(y[0:4]) for y in df_grace_ds.index]\n",
    "df_grace_ds=df_grace_ds.rename(columns={'TWS Change [mm/year]':'dS_GRACE'})\n",
    "ts_all.append(df_grace_ds)\n",
    "\n",
    "### Read monthly Qout\n",
    "for key in ['Qoutlet','Qswout','Qgwout']:\n",
    "    if BASIN['input_ts'][key] is None:\n",
    "        Q=ts_all[0]*0\n",
    "        Q.columns=[key]\n",
    "        ts_all.append(Q)\n",
    "    else:        \n",
    "        Q_m=pd.read_csv(BASIN['input_ts'][key],sep=';',index_col=0,skiprows=0)\n",
    "        Q_m.index=[datetime.datetime.strptime(y,'%d/%m/%Y %H:%M') for y in Q_m.index]\n",
    "        Q_m=Q_m.replace(-9999,np.nan)\n",
    "        Q_y=Q_m.resample('A-{0}'.format(BASIN['end_month'])).sum() #mean()\n",
    "        Q_y.index=[y.year for y in Q_y.index]\n",
    "        ##\n",
    "        df_Q_y=Q_y.where(Q_y.days>=365) ##remove years with missing data\n",
    "        df_Q_y=df_Q_y['km3/month']*1000000 ##convert to TCM=km2*mm\n",
    "        df_Q_y=df_Q_y.dropna()\n",
    "        df_Q_y.name=key\n",
    "        Q=df_Q_y.to_frame()\n",
    "        ts_all.append(Q)"
   ]
  },
  {
   "cell_type": "code",
   "execution_count": 7,
   "id": "d7fba5d6",
   "metadata": {},
   "outputs": [
    {
     "data": {
      "text/plain": [
       "[      Precipitation\n",
       " 2012      6489557.0\n",
       " 2013      6414067.5,\n",
       "       Actual Evapotranspiration\n",
       " 2012                  6391822.0\n",
       " 2013                  6515207.5,\n",
       "       Rainfall_ET_M\n",
       " 2012      4211680.0\n",
       " 2013      4359073.5,\n",
       "       Incremental_ET_M\n",
       " 2012        2179949.25\n",
       " 2013        2155989.75,\n",
       "       Incremental_ET_M-Protected Landuse  Incremental_ET_M-Utilized Landuse  \\\n",
       " year                                                                          \n",
       " 2012                                 0.0                        1884871.875   \n",
       " 2013                                 0.0                        1838895.750   \n",
       " \n",
       "       Incremental_ET_M-Modified Landuse  Incremental_ET_M-Managed Water Use  \n",
       " year                                                                         \n",
       " 2012                       62800.855469                        232276.81250  \n",
       " 2013                       62041.390625                        255052.59375  ,\n",
       "       Rainfall_ET_M-Protected Landuse  Rainfall_ET_M-Utilized Landuse  \\\n",
       " year                                                                    \n",
       " 2012                              0.0                      3897391.75   \n",
       " 2013                              0.0                      4033757.50   \n",
       " \n",
       "       Rainfall_ET_M-Modified Landuse  Rainfall_ET_M-Managed Water Use  \n",
       " year                                                                   \n",
       " 2012                   111229.117188                    203060.250000  \n",
       " 2013                   109166.492188                    216149.203125  ,\n",
       "            dS_GRACE\n",
       " 2003 -657896.592321\n",
       " 2004  410857.412526\n",
       " 2005  365315.746741\n",
       " 2006 -523774.774298\n",
       " 2007  310643.737319\n",
       " 2008  628179.224351\n",
       " 2009 -684456.729693\n",
       " 2010  414711.012620\n",
       " 2011  -53443.746200\n",
       " 2012 -598726.990956\n",
       " 2013 -566074.962775\n",
       " 2014  661840.648817\n",
       " 2015 -403542.511876\n",
       " 2016  498057.446787,\n",
       "         Qoutlet\n",
       " 2012  3649230.0\n",
       " 2013  3157937.0,\n",
       "       Qswout\n",
       " 2012     0.0\n",
       " 2013     0.0,\n",
       "       Qgwout\n",
       " 2012     0.0\n",
       " 2013     0.0]"
      ]
     },
     "execution_count": 7,
     "metadata": {},
     "output_type": "execute_result"
    }
   ],
   "source": [
    "ts_all"
   ]
  },
  {
   "cell_type": "markdown",
   "id": "92543b2f",
   "metadata": {},
   "source": [
    "# 5.3 Generate output table"
   ]
  },
  {
   "cell_type": "code",
   "execution_count": 8,
   "id": "d09b8e5b",
   "metadata": {},
   "outputs": [],
   "source": [
    "for i in range(len(ts_all)):\n",
    "    if i ==0:\n",
    "        df=ts_all[i]        \n",
    "    else:\n",
    "        df=pd.merge(df,ts_all[i],left_index=True,right_index=True,how='inner')"
   ]
  },
  {
   "cell_type": "code",
   "execution_count": 9,
   "id": "9505b7c2",
   "metadata": {},
   "outputs": [
    {
     "data": {
      "text/plain": [
       "Index(['Precipitation', 'Actual Evapotranspiration', 'Rainfall_ET_M',\n",
       "       'Incremental_ET_M', 'Incremental_ET_M-Protected Landuse',\n",
       "       'Incremental_ET_M-Utilized Landuse',\n",
       "       'Incremental_ET_M-Modified Landuse',\n",
       "       'Incremental_ET_M-Managed Water Use', 'Rainfall_ET_M-Protected Landuse',\n",
       "       'Rainfall_ET_M-Utilized Landuse', 'Rainfall_ET_M-Modified Landuse',\n",
       "       'Rainfall_ET_M-Managed Water Use', 'dS_GRACE', 'Qoutlet', 'Qswout',\n",
       "       'Qgwout'],\n",
       "      dtype='object')"
      ]
     },
     "execution_count": 9,
     "metadata": {},
     "output_type": "execute_result"
    }
   ],
   "source": [
    "df.columns"
   ]
  },
  {
   "cell_type": "code",
   "execution_count": 10,
   "id": "f76c56b2",
   "metadata": {},
   "outputs": [
    {
     "data": {
      "text/plain": [
       "'C:\\\\WA_Souss_Massa_Training\\\\WAPOR\\\\Souss_Massa\\\\Main\\\\Info_20221024_10h25.pickle'"
      ]
     },
     "execution_count": 10,
     "metadata": {},
     "output_type": "execute_result"
    }
   ],
   "source": [
    "for i in range(len(ts_all)):\n",
    "    if i ==0:\n",
    "        df=ts_all[i]        \n",
    "    else:\n",
    "        df=pd.merge(df,ts_all[i],left_index=True,right_index=True,how='inner')\n",
    "        \n",
    "df['dS_WB']=df['Precipitation']-df['Actual Evapotranspiration']-df['Qoutlet']-df['Qswout']-df['Qgwout']\n",
    "df['dS_Error']=df['dS_GRACE']-df['dS_WB']\n",
    "\n",
    "OUT_CSV=os.path.join(BASIN['Dir'],'df_all.csv')\n",
    "df.to_csv(OUT_CSV,sep=';')\n",
    "BASIN['main_data']['df_all']=OUT_CSV\n",
    "pickle_out(BASIN)"
   ]
  },
  {
   "cell_type": "code",
   "execution_count": 11,
   "id": "aa8bd0d3",
   "metadata": {},
   "outputs": [
    {
     "data": {
      "text/html": [
       "<div>\n",
       "<style scoped>\n",
       "    .dataframe tbody tr th:only-of-type {\n",
       "        vertical-align: middle;\n",
       "    }\n",
       "\n",
       "    .dataframe tbody tr th {\n",
       "        vertical-align: top;\n",
       "    }\n",
       "\n",
       "    .dataframe thead th {\n",
       "        text-align: right;\n",
       "    }\n",
       "</style>\n",
       "<table border=\"1\" class=\"dataframe\">\n",
       "  <thead>\n",
       "    <tr style=\"text-align: right;\">\n",
       "      <th></th>\n",
       "      <th>Precipitation</th>\n",
       "      <th>Actual Evapotranspiration</th>\n",
       "      <th>Rainfall_ET_M</th>\n",
       "      <th>Incremental_ET_M</th>\n",
       "      <th>Incremental_ET_M-Protected Landuse</th>\n",
       "      <th>Incremental_ET_M-Utilized Landuse</th>\n",
       "      <th>Incremental_ET_M-Modified Landuse</th>\n",
       "      <th>Incremental_ET_M-Managed Water Use</th>\n",
       "      <th>Rainfall_ET_M-Protected Landuse</th>\n",
       "      <th>Rainfall_ET_M-Utilized Landuse</th>\n",
       "      <th>Rainfall_ET_M-Modified Landuse</th>\n",
       "      <th>Rainfall_ET_M-Managed Water Use</th>\n",
       "      <th>dS_GRACE</th>\n",
       "      <th>Qoutlet</th>\n",
       "      <th>Qswout</th>\n",
       "      <th>Qgwout</th>\n",
       "      <th>dS_WB</th>\n",
       "      <th>dS_Error</th>\n",
       "    </tr>\n",
       "  </thead>\n",
       "  <tbody>\n",
       "    <tr>\n",
       "      <th>2012</th>\n",
       "      <td>6489557.0</td>\n",
       "      <td>6391822.0</td>\n",
       "      <td>4211680.0</td>\n",
       "      <td>2179949.2</td>\n",
       "      <td>0.0</td>\n",
       "      <td>1884871.9</td>\n",
       "      <td>62800.855</td>\n",
       "      <td>232276.81</td>\n",
       "      <td>0.0</td>\n",
       "      <td>3897391.8</td>\n",
       "      <td>111229.12</td>\n",
       "      <td>203060.25</td>\n",
       "      <td>-598726.990956</td>\n",
       "      <td>3649230.0</td>\n",
       "      <td>0.0</td>\n",
       "      <td>0.0</td>\n",
       "      <td>-3551495.0</td>\n",
       "      <td>2.952768e+06</td>\n",
       "    </tr>\n",
       "    <tr>\n",
       "      <th>2013</th>\n",
       "      <td>6414067.5</td>\n",
       "      <td>6515207.5</td>\n",
       "      <td>4359073.5</td>\n",
       "      <td>2155989.8</td>\n",
       "      <td>0.0</td>\n",
       "      <td>1838895.8</td>\n",
       "      <td>62041.390</td>\n",
       "      <td>255052.60</td>\n",
       "      <td>0.0</td>\n",
       "      <td>4033757.5</td>\n",
       "      <td>109166.49</td>\n",
       "      <td>216149.20</td>\n",
       "      <td>-566074.962775</td>\n",
       "      <td>3157937.0</td>\n",
       "      <td>0.0</td>\n",
       "      <td>0.0</td>\n",
       "      <td>-3259077.0</td>\n",
       "      <td>2.693002e+06</td>\n",
       "    </tr>\n",
       "  </tbody>\n",
       "</table>\n",
       "</div>"
      ],
      "text/plain": [
       "      Precipitation  Actual Evapotranspiration  Rainfall_ET_M  \\\n",
       "2012      6489557.0                  6391822.0      4211680.0   \n",
       "2013      6414067.5                  6515207.5      4359073.5   \n",
       "\n",
       "      Incremental_ET_M  Incremental_ET_M-Protected Landuse  \\\n",
       "2012         2179949.2                                 0.0   \n",
       "2013         2155989.8                                 0.0   \n",
       "\n",
       "      Incremental_ET_M-Utilized Landuse  Incremental_ET_M-Modified Landuse  \\\n",
       "2012                          1884871.9                          62800.855   \n",
       "2013                          1838895.8                          62041.390   \n",
       "\n",
       "      Incremental_ET_M-Managed Water Use  Rainfall_ET_M-Protected Landuse  \\\n",
       "2012                           232276.81                              0.0   \n",
       "2013                           255052.60                              0.0   \n",
       "\n",
       "      Rainfall_ET_M-Utilized Landuse  Rainfall_ET_M-Modified Landuse  \\\n",
       "2012                       3897391.8                       111229.12   \n",
       "2013                       4033757.5                       109166.49   \n",
       "\n",
       "      Rainfall_ET_M-Managed Water Use       dS_GRACE    Qoutlet  Qswout  \\\n",
       "2012                        203060.25 -598726.990956  3649230.0     0.0   \n",
       "2013                        216149.20 -566074.962775  3157937.0     0.0   \n",
       "\n",
       "      Qgwout      dS_WB      dS_Error  \n",
       "2012     0.0 -3551495.0  2.952768e+06  \n",
       "2013     0.0 -3259077.0  2.693002e+06  "
      ]
     },
     "execution_count": 11,
     "metadata": {},
     "output_type": "execute_result"
    }
   ],
   "source": [
    "#Get sheet1 csv template\n",
    "WORKING_DIR=WA.__path__[0]\n",
    "csv_template=os.path.join(WORKING_DIR,'csv','Sample_sheet1.csv')\n",
    "\n",
    "convert_unit=1000000 #from TCM to BCM\n",
    "# convert_unit=1000 #from TCM to MCM\n",
    "\n",
    "df=pd.read_csv(BASIN['main_data']['df_all'],sep=';',index_col=0)\n",
    "df"
   ]
  },
  {
   "cell_type": "markdown",
   "id": "a8c02b83",
   "metadata": {},
   "source": [
    "# 5.4 Generate yearly csv files"
   ]
  },
  {
   "cell_type": "code",
   "execution_count": 12,
   "id": "500eba59",
   "metadata": {},
   "outputs": [],
   "source": [
    "df=df/convert_unit\n",
    "csv_folder=os.path.join(BASIN['Dir'],'data','csv')\n",
    "if not os.path.exists(csv_folder):\n",
    "    os.makedirs(csv_folder)\n",
    "\n",
    "df_template=pd.read_csv(csv_template,sep=\";\")\n",
    "csv_fhs=[]\n",
    "for year in df.index:\n",
    "    df_year=df_template.copy()\n",
    "    df_year['VALUE']=0.0\n",
    "    df_year.loc[0,'VALUE']=df.loc[year,'Precipitation']\n",
    "#    if df.loc[year,'dS']>0:\n",
    "#        df_year.loc[11,'VALUE']=df.loc[year,'dS_WB']\n",
    "#    else:\n",
    "#        df_year.loc[10,'VALUE']=abs(df.loc[year,'dS_WB'])\n",
    "    df_year.loc[10,'VALUE']=-df.loc[year,'dS_WB']\n",
    "    df_year.loc[12,'VALUE']=df.loc[year,'Rainfall_ET_M-Protected Landuse']\n",
    "    df_year.loc[13,'VALUE']=df.loc[year,'Rainfall_ET_M-Utilized Landuse']\n",
    "    df_year.loc[14,'VALUE']=df.loc[year,'Rainfall_ET_M-Modified Landuse']\n",
    "    df_year.loc[15,'VALUE']=df.loc[year,'Rainfall_ET_M-Managed Water Use']\n",
    "    df_year.loc[16,'VALUE']=df.loc[year,'Incremental_ET_M-Protected Landuse']\n",
    "    df_year.loc[17,'VALUE']=df.loc[year,'Incremental_ET_M-Utilized Landuse']\n",
    "    df_year.loc[18,'VALUE']=df.loc[year,'Incremental_ET_M-Modified Landuse']\n",
    "    df_year.loc[19,'VALUE']=df.loc[year,'Incremental_ET_M-Managed Water Use']\n",
    "    df_year.loc[20,'VALUE']=df.loc[year,'Incremental_ET_M-Managed Water Use']\n",
    "    df_year.loc[21,'VALUE']=df.loc[year,'Incremental_ET_M']-df.loc[year,'Incremental_ET_M-Managed Water Use']\n",
    "    df_year.loc[26,'VALUE']=df.loc[year,'Qswout']\n",
    "    df_year.loc[22,'VALUE']=df.loc[year,'Qoutlet']\n",
    "    outcsv=os.path.join(csv_folder,'Sheet1_{0}.csv'.format(int(year)))\n",
    "    df_year.to_csv(outcsv,sep=\";\",index=False)\n",
    "    csv_fhs.append(outcsv)"
   ]
  },
  {
   "cell_type": "markdown",
   "id": "7ff16a49",
   "metadata": {},
   "source": [
    "# 5.5 Compute mean csv file (from all the years)"
   ]
  },
  {
   "cell_type": "code",
   "execution_count": 13,
   "id": "8e70eef7",
   "metadata": {},
   "outputs": [],
   "source": [
    "df_mean = df.mean()  \n",
    "df_mean_csv=df_template.copy()\n",
    "df_mean_csv['VALUE']=0.0\n",
    "df_mean_csv.loc[0,'VALUE']=df_mean.loc['Precipitation']\n",
    "df_mean_csv.loc[10,'VALUE']=-df_mean.loc['dS_WB']\n",
    "df_mean_csv.loc[12,'VALUE']=df_mean.loc['Rainfall_ET_M-Protected Landuse']\n",
    "df_mean_csv.loc[13,'VALUE']=df_mean.loc['Rainfall_ET_M-Utilized Landuse']\n",
    "df_mean_csv.loc[14,'VALUE']=df_mean.loc['Rainfall_ET_M-Modified Landuse']\n",
    "df_mean_csv.loc[15,'VALUE']=df_mean.loc['Rainfall_ET_M-Managed Water Use']\n",
    "df_mean_csv.loc[16,'VALUE']=df_mean.loc['Incremental_ET_M-Protected Landuse']\n",
    "df_mean_csv.loc[17,'VALUE']=df_mean.loc['Incremental_ET_M-Utilized Landuse']\n",
    "df_mean_csv.loc[18,'VALUE']=df_mean.loc['Incremental_ET_M-Modified Landuse']\n",
    "df_mean_csv.loc[19,'VALUE']=df_mean.loc['Incremental_ET_M-Managed Water Use']\n",
    "df_mean_csv.loc[20,'VALUE']=df_mean.loc['Incremental_ET_M-Managed Water Use']\n",
    "df_mean_csv.loc[21,'VALUE']=df_mean.loc['Incremental_ET_M']-df.loc[year,'Incremental_ET_M-Managed Water Use']\n",
    "df_mean_csv.loc[26,'VALUE']=df_mean.loc['Qswout']\n",
    "df_mean_csv.loc[22,'VALUE']=df_mean.loc['Qoutlet']\n",
    "outcsv=os.path.join(csv_folder,'Sheet_{}-{}.csv'.format(min(df.index),max(df.index)))\n",
    "df_mean_csv.to_csv(outcsv,sep=\";\",index=False)"
   ]
  },
  {
   "cell_type": "code",
   "execution_count": 14,
   "id": "8d300063",
   "metadata": {},
   "outputs": [
    {
     "name": "stdout",
     "output_type": "stream",
     "text": [
      "0:00:40.862070\n"
     ]
    }
   ],
   "source": [
    "endtime = datetime.datetime.now()\n",
    "print(endtime-starttime)"
   ]
  },
  {
   "cell_type": "code",
   "execution_count": null,
   "id": "d83b403b",
   "metadata": {},
   "outputs": [],
   "source": []
  }
 ],
 "metadata": {
  "kernelspec": {
   "display_name": "Python 3 (ipykernel)",
   "language": "python",
   "name": "python3"
  },
  "language_info": {
   "codemirror_mode": {
    "name": "ipython",
    "version": 3
   },
   "file_extension": ".py",
   "mimetype": "text/x-python",
   "name": "python",
   "nbconvert_exporter": "python",
   "pygments_lexer": "ipython3",
   "version": "3.7.13"
  }
 },
 "nbformat": 4,
 "nbformat_minor": 5
}
